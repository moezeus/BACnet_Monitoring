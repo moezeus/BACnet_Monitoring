{
 "cells": [
  {
   "cell_type": "code",
   "execution_count": 9,
   "metadata": {
    "scrolled": true
   },
   "outputs": [
    {
     "name": "stdout",
     "output_type": "stream",
     "text": [
      "2020-12-02 20:37:40,994 - INFO    | Starting BAC0 version 20.02.20 (Lite)\n",
      "2020-12-02 20:37:40,999 - INFO    | Use BAC0.log_level to adjust verbosity of the app.\n",
      "2020-12-02 20:37:41,001 - INFO    | Ex. BAC0.log_level('silence') or BAC0.log_level('error')\n",
      "2020-12-02 20:37:41,135 - INFO    | Using ip : 192.168.1.11\n",
      "2020-12-02 20:37:41,139 - INFO    | Starting app...\n",
      "2020-12-02 20:37:41,157 - INFO    | BAC0 started\n",
      "2020-12-02 20:37:41,160 - INFO    | Registered as Simple BACnet/IP App\n"
     ]
    }
   ],
   "source": [
    "import BAC0\n",
    "bacnet = BAC0.connect()"
   ]
  },
  {
   "cell_type": "code",
   "execution_count": 15,
   "metadata": {},
   "outputs": [],
   "source": [
    "a = bacnet.whois()\n",
    "# a = bacnet.devices"
   ]
  },
  {
   "cell_type": "code",
   "execution_count": 16,
   "metadata": {},
   "outputs": [
    {
     "data": {
      "text/plain": [
       "[('20:0x650000000000', 101),\n",
       " ('20:0x640000000000', 100),\n",
       " ('192.168.1.9', 4194302)]"
      ]
     },
     "execution_count": 16,
     "metadata": {},
     "output_type": "execute_result"
    }
   ],
   "source": [
    "a"
   ]
  },
  {
   "cell_type": "code",
   "execution_count": 130,
   "metadata": {},
   "outputs": [
    {
     "name": "stdout",
     "output_type": "stream",
     "text": [
      "2020-12-02 17:39:15,047 - INFO    | Changing device state to DeviceDisconnected'>\n",
      "2020-12-02 17:39:15,822 - INFO    | Changing device state to RPMDeviceConnected'>\n",
      "2020-12-02 17:39:18,303 - INFO    | Device 100:[Room1A] found... building points list\n",
      "2020-12-02 17:39:20,487 - INFO    | Ready!\n",
      "2020-12-02 17:39:20,505 - INFO    | Device defined for normal polling with a delay of 10sec\n",
      "2020-12-02 17:39:20,541 - INFO    | Polling started, values read every 10 seconds\n"
     ]
    }
   ],
   "source": [
    "mycontroller = BAC0.device(a[0][0],100,bacnet)"
   ]
  },
  {
   "cell_type": "code",
   "execution_count": 6,
   "metadata": {},
   "outputs": [
    {
     "data": {
      "text/plain": [
       "{'name': 'Tesss', 'address': '20:0x640000000000', 'device_id': 100, 'network': Bacnet Network using ip 192.168.1.2 with device id 3056424, 'pollDelay': 10, 'objects_list': [('analogInput', 0), ('analogValue', 1), ('binaryInput', 2), ('binaryOutput', 3), ('binaryValue', 4), ('command', 7), ('device', 100), ('multiStateInput', 5), ('multiStateOutput', 6)], 'pss': <bacpypes.basetypes.ServicesSupported object at 0x0000011F6466C7B8>, 'multistates': {}, 'db_name': '', 'segmentation_supported': True, 'history_size': None, 'bacnet_properties': {}, 'fast_polling': False, 'vendor_id': 123, 'auto_save': False, 'clear_history_on_save': False}"
      ]
     },
     "execution_count": 6,
     "metadata": {},
     "output_type": "execute_result"
    }
   ],
   "source": [
    "mycontroller.properties"
   ]
  },
  {
   "cell_type": "code",
   "execution_count": 71,
   "metadata": {},
   "outputs": [],
   "source": [
    "s = mycontroller.points"
   ]
  },
  {
   "cell_type": "code",
   "execution_count": 20,
   "metadata": {},
   "outputs": [],
   "source": [
    "bacnet.write('20:0x640000000000 analogValue 1 presentValue 500 - 8')"
   ]
  },
  {
   "cell_type": "code",
   "execution_count": null,
   "metadata": {},
   "outputs": [],
   "source": [
    "# Define your own list\n",
    "my_obj_list = [('file', 1),('analogInput', 2),('analogInput', 3),('analogInput', 5),('analogInput', 4),('analogInput', 0),('analogInput', 1)]\n",
    "\n",
    "# Provide it as an argument\n",
    "fx = BAC0.device('2:5',5,bacnet, object_list = my_obj_list)"
   ]
  },
  {
   "cell_type": "code",
   "execution_count": null,
   "metadata": {},
   "outputs": [],
   "source": [
    "# bacnet.whois()\n",
    "# bacnet.devices\n",
    "# fx.properties\n",
    "bacnet.registered_devices"
   ]
  },
  {
   "cell_type": "code",
   "execution_count": 1,
   "metadata": {},
   "outputs": [],
   "source": [
    "import configparser"
   ]
  },
  {
   "cell_type": "code",
   "execution_count": 2,
   "metadata": {},
   "outputs": [
    {
     "data": {
      "text/plain": [
       "['command.ini']"
      ]
     },
     "execution_count": 2,
     "metadata": {},
     "output_type": "execute_result"
    }
   ],
   "source": [
    "config = configparser.ConfigParser()\n",
    "config.read('command.ini')"
   ]
  },
  {
   "cell_type": "code",
   "execution_count": 7,
   "metadata": {},
   "outputs": [],
   "source": [
    "readparam = config['Device']"
   ]
  },
  {
   "cell_type": "code",
   "execution_count": 3,
   "metadata": {},
   "outputs": [],
   "source": [
    "readparam = dict(config['Device'])"
   ]
  },
  {
   "cell_type": "code",
   "execution_count": 4,
   "metadata": {},
   "outputs": [
    {
     "data": {
      "text/plain": [
       "2"
      ]
     },
     "execution_count": 4,
     "metadata": {},
     "output_type": "execute_result"
    }
   ],
   "source": [
    "x = len(readparam)\n",
    "x"
   ]
  },
  {
   "cell_type": "code",
   "execution_count": 5,
   "metadata": {},
   "outputs": [],
   "source": [
    "# read=[]\n",
    "device0 = 0\n",
    "device1 = 0\n",
    "device2 = 0\n",
    "device3 = 0\n",
    "device4 = 0\n",
    "device5 = 0\n",
    "\n",
    "for i in range(x):\n",
    "    if i==0 :\n",
    "        device0 = config['Device']['Device'+str(i)]\n",
    "        device0 = device0.split(',')\n",
    "        device0address = device0[0]\n",
    "        device0ID = device0[1]\n",
    "    if i==1 :\n",
    "        device1 = config['Device']['Device'+str(i)]\n",
    "        device1 = device1.split(',')\n",
    "        device1address = device1[0]\n",
    "        device1ID = device1[1]\n",
    "    if i==2 :\n",
    "        device2 = config['Device']['Device'+str(i)]\n",
    "        device2 = device2.split(',')\n",
    "        device2address = device2[0]\n",
    "        device2ID = device2[1]\n",
    "    if i==3 :\n",
    "        device3 = config['Device']['Device'+str(i)]\n",
    "        device3 = device3.split(',')\n",
    "        device3address = device3[0]\n",
    "        device3ID = device3[1]\n",
    "    if i==4 :\n",
    "        device4 = config['Device']['Device'+str(i)]\n",
    "        device4 = device4.split(',')\n",
    "        device4address = device4[0]\n",
    "        device4ID = device4[1]\n",
    "    if i==5 :\n",
    "        device5 = config['Device']['Device'+str(i)]\n",
    "        device5 = device5.split(',')\n",
    "        device5address = device5[0]\n",
    "        device5ID = device5[1]\n",
    "#     a = config['Device']['Device'+str(i)]\n",
    "#     read.append(a)\n",
    "#     print(read)"
   ]
  },
  {
   "cell_type": "code",
   "execution_count": 8,
   "metadata": {},
   "outputs": [
    {
     "data": {
      "text/plain": [
       "2"
      ]
     },
     "execution_count": 8,
     "metadata": {},
     "output_type": "execute_result"
    }
   ],
   "source": [
    "len(device0)"
   ]
  },
  {
   "cell_type": "code",
   "execution_count": null,
   "metadata": {},
   "outputs": [],
   "source": []
  }
 ],
 "metadata": {
  "kernelspec": {
   "display_name": "Python 3",
   "language": "python",
   "name": "python3"
  },
  "language_info": {
   "codemirror_mode": {
    "name": "ipython",
    "version": 3
   },
   "file_extension": ".py",
   "mimetype": "text/x-python",
   "name": "python",
   "nbconvert_exporter": "python",
   "pygments_lexer": "ipython3",
   "version": "3.7.3"
  }
 },
 "nbformat": 4,
 "nbformat_minor": 4
}
